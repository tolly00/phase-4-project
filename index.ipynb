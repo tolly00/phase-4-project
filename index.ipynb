{
 "cells": [
  {
   "cell_type": "markdown",
   "id": "42140e84-5ed6-4f1e-ae48-3371ff89db5e",
   "metadata": {},
   "source": [
    "## Final Phase 4 Project Submission\n",
    "\n",
    "Please fill out: \n",
    "* Student name: **Alberto SYLVEUS** \n",
    "* Student pace: self paced / part time / full time\n",
    "* Scheduled project review date/time: \n",
    "* Instructor name: **Wedter JEROME and Geovany Baptista Polo LAGUERRE**\n",
    "*  \n",
    "[Click here to get the github repository](https://github.com/tolly00/phase-4-project.git)"
   ]
  },
  {
   "cell_type": "markdown",
   "id": "81066a57-b408-4bb6-8f16-1911a9bb4cd4",
   "metadata": {},
   "source": [
    "# Overview"
   ]
  },
  {
   "cell_type": "markdown",
   "id": "f5316ea0-4dd9-4ed4-94a2-b8f704ddc019",
   "metadata": {},
   "source": [
    "When we build a batiment, we have someting that very important. To be carefull about this thing, we are going to make a predictive model that estimates the heating load and the cooling load of a building based on its physical and structural features."
   ]
  },
  {
   "cell_type": "markdown",
   "id": "50c30996-0264-4bd3-bf5d-f9d6a985fbce",
   "metadata": {},
   "source": [
    "# Business Understanding"
   ]
  },
  {
   "cell_type": "markdown",
   "id": "40919f63-44ff-4ccf-a343-aa5eb2243fb1",
   "metadata": {},
   "source": [
    "The energy of a building is as really important as others parts of the construction. For that we are going to make an accurate load predictions can support energy-efficient building design, reduce energy costs, and help meet sustainability standards."
   ]
  },
  {
   "cell_type": "markdown",
   "id": "4c3f29d7-6253-41cb-a669-d3eadb4e1fe9",
   "metadata": {},
   "source": [
    "# Data Understanding"
   ]
  },
  {
   "cell_type": "markdown",
   "id": "d7dfd021-34c7-4d78-ad17-0ec33118c594",
   "metadata": {},
   "source": [
    "We use the **Energy Efficiency Dataset** (commonly available on the UCI Machine Learning Repository), which contains **768 building samples** with the following input features:\n",
    "\n",
    "-   **Relative Compactness(X1)**: A ratio that measures how compact a building’s shape is.\n",
    "    \n",
    "-   **Surface Area(X2)**: The total external area of the building’s envelope (walls, roof, etc.).\n",
    "    \n",
    "-   **Wall Area(X3)**: The total area of all external walls of the building.\n",
    "    \n",
    "-   **Roof Area(X4)**: The horizontal external surface area of the building’s roof.\n",
    "    \n",
    "-   **Overall Height(X5)**: The vertical height of the building.\n",
    "    \n",
    "-   **Orientation(X6)**: The building’s facing direction (North, South, East, West).\n",
    "    \n",
    "-   **Glazing Area(X7)**: The proportion of the building’s exterior covered by windows (glass).\n",
    "    \n",
    "-   **Glazing Area Distribution(X8)**: Definition: How the glazing (windows) is distributed across building facades (all on one side, evenly distributed, etc.).\n",
    "    \n",
    "\n",
    "**Targets (Outputs):**\n",
    "\n",
    "-   Heating Load(Y1) (kWh/m²): The amount of energy needed to maintain comfortable indoor temperature in cold conditions.\n",
    "    \n",
    "-   Cooling Load(Y2) (kWh/m²): The amount of energy needed to keep indoor temperature comfortable in hot conditions."
   ]
  },
  {
   "cell_type": "code",
   "execution_count": 3,
   "id": "242a43f7-bb42-4821-bf39-c9fbbcae34e0",
   "metadata": {},
   "outputs": [],
   "source": [
    "import numpy as np\n",
    "import pandas as pd"
   ]
  },
  {
   "cell_type": "code",
   "execution_count": 4,
   "id": "46a4ad6d-520f-4c31-9c9c-f5dc5c4113da",
   "metadata": {},
   "outputs": [
    {
     "data": {
      "text/html": [
       "<div>\n",
       "<style scoped>\n",
       "    .dataframe tbody tr th:only-of-type {\n",
       "        vertical-align: middle;\n",
       "    }\n",
       "\n",
       "    .dataframe tbody tr th {\n",
       "        vertical-align: top;\n",
       "    }\n",
       "\n",
       "    .dataframe thead th {\n",
       "        text-align: right;\n",
       "    }\n",
       "</style>\n",
       "<table border=\"1\" class=\"dataframe\">\n",
       "  <thead>\n",
       "    <tr style=\"text-align: right;\">\n",
       "      <th></th>\n",
       "      <th>X1</th>\n",
       "      <th>X2</th>\n",
       "      <th>X3</th>\n",
       "      <th>X4</th>\n",
       "      <th>X5</th>\n",
       "      <th>X6</th>\n",
       "      <th>X7</th>\n",
       "      <th>X8</th>\n",
       "      <th>Y1</th>\n",
       "      <th>Y2</th>\n",
       "    </tr>\n",
       "  </thead>\n",
       "  <tbody>\n",
       "    <tr>\n",
       "      <th>0</th>\n",
       "      <td>0.98</td>\n",
       "      <td>514.5</td>\n",
       "      <td>294.0</td>\n",
       "      <td>110.25</td>\n",
       "      <td>7.0</td>\n",
       "      <td>2</td>\n",
       "      <td>0.0</td>\n",
       "      <td>0</td>\n",
       "      <td>15.55</td>\n",
       "      <td>21.33</td>\n",
       "    </tr>\n",
       "    <tr>\n",
       "      <th>1</th>\n",
       "      <td>0.98</td>\n",
       "      <td>514.5</td>\n",
       "      <td>294.0</td>\n",
       "      <td>110.25</td>\n",
       "      <td>7.0</td>\n",
       "      <td>3</td>\n",
       "      <td>0.0</td>\n",
       "      <td>0</td>\n",
       "      <td>15.55</td>\n",
       "      <td>21.33</td>\n",
       "    </tr>\n",
       "    <tr>\n",
       "      <th>2</th>\n",
       "      <td>0.98</td>\n",
       "      <td>514.5</td>\n",
       "      <td>294.0</td>\n",
       "      <td>110.25</td>\n",
       "      <td>7.0</td>\n",
       "      <td>4</td>\n",
       "      <td>0.0</td>\n",
       "      <td>0</td>\n",
       "      <td>15.55</td>\n",
       "      <td>21.33</td>\n",
       "    </tr>\n",
       "    <tr>\n",
       "      <th>3</th>\n",
       "      <td>0.98</td>\n",
       "      <td>514.5</td>\n",
       "      <td>294.0</td>\n",
       "      <td>110.25</td>\n",
       "      <td>7.0</td>\n",
       "      <td>5</td>\n",
       "      <td>0.0</td>\n",
       "      <td>0</td>\n",
       "      <td>15.55</td>\n",
       "      <td>21.33</td>\n",
       "    </tr>\n",
       "    <tr>\n",
       "      <th>4</th>\n",
       "      <td>0.90</td>\n",
       "      <td>563.5</td>\n",
       "      <td>318.5</td>\n",
       "      <td>122.50</td>\n",
       "      <td>7.0</td>\n",
       "      <td>2</td>\n",
       "      <td>0.0</td>\n",
       "      <td>0</td>\n",
       "      <td>20.84</td>\n",
       "      <td>28.28</td>\n",
       "    </tr>\n",
       "  </tbody>\n",
       "</table>\n",
       "</div>"
      ],
      "text/plain": [
       "     X1     X2     X3      X4   X5  X6   X7  X8     Y1     Y2\n",
       "0  0.98  514.5  294.0  110.25  7.0   2  0.0   0  15.55  21.33\n",
       "1  0.98  514.5  294.0  110.25  7.0   3  0.0   0  15.55  21.33\n",
       "2  0.98  514.5  294.0  110.25  7.0   4  0.0   0  15.55  21.33\n",
       "3  0.98  514.5  294.0  110.25  7.0   5  0.0   0  15.55  21.33\n",
       "4  0.90  563.5  318.5  122.50  7.0   2  0.0   0  20.84  28.28"
      ]
     },
     "execution_count": 4,
     "metadata": {},
     "output_type": "execute_result"
    }
   ],
   "source": [
    "df = pd.read_excel('data/ENB2012_data.xlsx')\n",
    "df.head()"
   ]
  },
  {
   "cell_type": "code",
   "execution_count": null,
   "id": "d47a6e8c-b2d6-4e66-9da1-f04a7799e985",
   "metadata": {},
   "outputs": [],
   "source": []
  }
 ],
 "metadata": {
  "kernelspec": {
   "display_name": "Python 3 (ipykernel)",
   "language": "python",
   "name": "python3"
  },
  "language_info": {
   "codemirror_mode": {
    "name": "ipython",
    "version": 3
   },
   "file_extension": ".py",
   "mimetype": "text/x-python",
   "name": "python",
   "nbconvert_exporter": "python",
   "pygments_lexer": "ipython3",
   "version": "3.12.7"
  }
 },
 "nbformat": 4,
 "nbformat_minor": 5
}
